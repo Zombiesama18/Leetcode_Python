{
 "cells": [
  {
   "cell_type": "markdown",
   "metadata": {
    "collapsed": true,
    "pycharm": {
     "name": "#%% md\n"
    }
   },
   "source": [
    "5999. 统计数组中好三元组数目\n",
    "给你两个下标从 0 开始且长度为 n 的整数数组 nums1 和 nums2 ，两者都是 [0, 1, ..., n - 1] 的 排列 。\n",
    "好三元组 指的是 3 个 互不相同 的值，且它们在数组 nums1 和 nums2 中出现顺序保持一致。\n",
    "换句话说，如果我们将 pos1v 记为值 v 在 nums1 中出现的位置，pos2v 为值 v 在 nums2 中的位置，\n",
    "那么一个好三元组定义为 0 <= x, y, z <= n - 1 ，且 pos1x < pos1y < pos1z 和 pos2x < pos2y < pos2z 都成立的 (x, y, z) 。\n",
    "请你返回好三元组的 总数目 。"
   ]
  },
  {
   "cell_type": "markdown",
   "source": [
    "做法：\n",
    "可以对 $nums_1$ 和 $nums_2$ 做相同的置换，创建一个排列 $P$，将元素 $v$ 映射为 $P(v)$。由于置换后的新三元组 $(P(x), P(y), P(z))$ 的每个元素的位置仍然是不变的，置换不会影响答案。\n",
    "可以将 $nums_1$ 置换成 $[0, 1, 2, \\dots, n - 1]$，并对 $nums_2$ 按照同样的排列 $P$ 做置换。\n",
    "由于 $nums_1$ 置换成了 $[0, 1, 2, \\dots, n - 1]$，因此置换后的 $(x,y,z)$ 需要满足 $x<y<z$。枚举置换后的 $nums_2$ 中的 $y$，问题就变成计算 $nums_2$ 中元素 $y$ 的左侧有多少个比 $y$ 小的数，以及右侧有多少比 $y$ 大的数。可以用树状数组/线段树/名次树来完成。\n",
    "（树状数组）设 $y$ 的下标为 $i$，且其左侧有 $less$ 个数比 $y$ 小，由于比 $y$ 大的数有 $n - 1 - y$ 个，减去左侧比 $y$ 大的 $i - less$ 个数，$y$ 右侧有 $n - 1 - y - (i - less)$ 个数比其大，所以 $y$ 会有 $less \\times (n - 1 - y - (i - less))$个好三元组。\n",
    "累加所有 $y$ 的好三元组个数，即为答案。"
   ],
   "metadata": {
    "collapsed": false,
    "pycharm": {
     "name": "#%% md\n"
    }
   }
  },
  {
   "cell_type": "code",
   "execution_count": null,
   "outputs": [],
   "source": [
    "from typing import *\n",
    "\n",
    "\n",
    "def goodTriplets(nums1: List[int], nums2: List[int]) -> int:\n",
    "    length = len(nums1)\n",
    "    p = [0] * length\n",
    "    for i, x in enumerate(nums1):\n",
    "        p[x] = i\n",
    "    result = 0\n",
    "    tree = [0] * (length + 1)\n",
    "    for i in range(1, length - 1):\n",
    "        # 将 p[nums2[i - 1]] + 1 加入树状数组\n",
    "        j = p[nums2[i - 1]] + 1\n",
    "        while j <= length:\n",
    "            tree[j] += 1\n",
    "            j += j & -j\n",
    "        # 计算less\n",
    "        y, less = p[nums2[i]], 0\n",
    "        j = y\n",
    "        while j:\n",
    "            less += tree[j]\n",
    "            j &= j - 1\n",
    "        result += less * (length - 1 - y - (i - less))\n",
    "    return result"
   ],
   "metadata": {
    "collapsed": false,
    "pycharm": {
     "name": "#%%\n"
    }
   }
  }
 ],
 "metadata": {
  "kernelspec": {
   "display_name": "Python 3",
   "language": "python",
   "name": "python3"
  },
  "language_info": {
   "codemirror_mode": {
    "name": "ipython",
    "version": 2
   },
   "file_extension": ".py",
   "mimetype": "text/x-python",
   "name": "python",
   "nbconvert_exporter": "python",
   "pygments_lexer": "ipython2",
   "version": "2.7.6"
  }
 },
 "nbformat": 4,
 "nbformat_minor": 0
}