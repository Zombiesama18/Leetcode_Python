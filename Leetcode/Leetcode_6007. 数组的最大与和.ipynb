{
 "cells": [
  {
   "cell_type": "markdown",
   "metadata": {
    "collapsed": true,
    "pycharm": {
     "name": "#%% md\n"
    }
   },
   "source": [
    "6007. 数组的最大与和\n",
    "给你一个长度为 n 的整数数组 nums 和一个整数 numSlots ，满足2 * numSlots >= n 。总共有 numSlots 个篮子，编号为 1 到 numSlots 。\n",
    "你需要把所有 n 个整数分到这些篮子中，且每个篮子 至多 有 2 个整数。一种分配方案的 与和 定义为每个数与它所在篮子编号的 按位与运算 结果之和。\n",
    "比方说，将数字 [1, 3] 放入篮子 1 中，[4, 6] 放入篮子 2 中，\n",
    "这个方案的与和为 (1 AND 1) + (3 AND 1) + (4 AND 2) + (6 AND 2) = 1 + 1 + 0 + 2 = 4 。\n",
    "请你返回将 nums 中所有数放入 numSlots 个篮子中的最大与和。\n",
    "\n",
    "### 方法\n",
    "由于每个男子至多可以放 2 个整数，可以视作有 $2 \\times numSlots$ 个篮子。由于篮子个数很少，可以用二进制数 x 表示这 $2 \\times numSlots$ 个篮子中放了数字的篮子集合，其中 x 从低到高的第 i 位为 1 表示第 i 个篮子放了数字，为 0 表示第 i 个篮子为空。\n",
    "设 i 的二进制中的 1 的个数为 c，定义 f[i] 表示将 nums 的前 c 个数字放到篮子中，且放了数字的篮子集合为 i 时的最大与和。初始值 $f[0] = 0$。\n",
    "考虑将 nums[c] 放到一个空篮子时的状态转移方程（下标从 0 开始，此时 nums[c] 还没被放入篮中），可以枚举 i 中的 0，即空篮子的位置 j，该空篮子对应的编号为 $\\frac{j}{2} + 1$，则有 $$f[i + 2^j] = max(f[i + 2^j], f[i] + (\\frac{j}{2} + 1) \\& nums[c])$$\n",
    "设 nums 的长度为 n，最后答案为 $max_{c=n}(f)$。\n",
    "若 $c \\geq n$ 则 f[i] 无法转移，需要跳过"
   ]
  },
  {
   "cell_type": "code",
   "execution_count": null,
   "outputs": [],
   "source": [
    "from typing import List\n",
    "\n",
    "\n",
    "def maximumANDSum(nums: List[int], numSlots: int) -> int:\n",
    "    f = [0] * (1 << (2 * numSlots))\n",
    "    for i, fi in enumerate(f):\n",
    "        c = i.bit_count()\n",
    "        if c >= len(nums):\n",
    "            continue\n",
    "        for j in range(2 * numSlots):\n",
    "            if (i & (1 << j)) == 0:\n",
    "                s = i | (1 << j)\n",
    "                f[s] = max(f[s], fi + ((j // 2 + 1) & nums[c]))\n",
    "    return max(f)"
   ],
   "metadata": {
    "collapsed": false,
    "pycharm": {
     "name": "#%%\n"
    }
   }
  }
 ],
 "metadata": {
  "kernelspec": {
   "display_name": "Python 3",
   "language": "python",
   "name": "python3"
  },
  "language_info": {
   "codemirror_mode": {
    "name": "ipython",
    "version": 2
   },
   "file_extension": ".py",
   "mimetype": "text/x-python",
   "name": "python",
   "nbconvert_exporter": "python",
   "pygments_lexer": "ipython2",
   "version": "2.7.6"
  }
 },
 "nbformat": 4,
 "nbformat_minor": 0
}