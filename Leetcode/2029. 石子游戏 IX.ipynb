{
 "cells": [
  {
   "cell_type": "markdown",
   "metadata": {
    "collapsed": true,
    "pycharm": {
     "name": "#%% md\n"
    }
   },
   "source": [
    "2029. 石子游戏 IX\n",
    "\n",
    "Alice 和 Bob 再次设计了一款新的石子游戏。现有一行 n 个石子，每个石子都有一个关联的数字表示它的价值。给你一个整数数组 stones ，\n",
    "其中 stones[i] 是第 i 个石子的价值。\n",
    "Alice 和 Bob 轮流进行自己的回合，Alice 先手。每一回合，玩家需要从 stones 中移除任一石子。\n",
    "如果玩家移除石子后，导致 所有已移除石子 的价值 总和 可以被 3 整除，那么该玩家就 输掉游戏 。\n",
    "如果不满足上一条，且移除后没有任何剩余的石子，那么 Bob 将会直接获胜（即便是在 Alice 的回合）。\n",
    "假设两位玩家均采用 最佳 决策。如果 Alice 获胜，返回 true ；如果 Bob 获胜，返回 false 。"
   ]
  },
  {
   "cell_type": "markdown",
   "source": [
    "## 思路\n",
    "由于玩家的目标是使得已经被移除的石子的价值总和不是$3$的倍数，因此可以把石子分为三类，它们的价值除以$3$的余数分别为$0,1,2$。可以直接用$0,1,2$表示他们的价值，对应的石子数量分别为$cnt_0,cnt_1,cnt_2$。\n",
    "可以发现，移除类型$0$的石子并不会对总和产生影响，因此类型$0$的石子可以看作为$\\lceil 先后手 \\rfloor$交换。具体地说，如果当前是 Alice 在进行操作，她如果发现自己选择移除类型$1$或$2$的石子，那么她在最后一定不能获胜。这时她就可以选择移除一个类型$0$的石子，将同样的局面交给 Bob。如果类型$0$的石子还没有移除完，那么 Bob 同样可以通过移除一个类型$0$的石子将局面重新交给 Alice。这样不断往复下去，可以得到结论：\n",
    "* 如果类型$0$的石子个数为**偶数**，那么胜负情况等价于没有类型$0$的石子的胜负情况。\n",
    "* 如果类型$0$的石子个数为**奇数**，那么胜负情况等价于只有一个类型$0$的石子的胜负情况。这里不能单纯地等价于$\\lceil 没有类型0的石子的胜负情况 \\rfloor$的相反情况，这是因为如果所有的石子都被移除完，无论谁移除了最后一个石子，都算 Alice 输。因此如果 Alice 发现自己选择移除类型$1$或$2$的石子不能获胜，于是选择移除类型$0$的石子，并且不能获胜的原因是$\\lceil 石子会移除完 \\rfloor$，那么 Alice 仍然会输。\n",
    "\n",
    "将类型$0$的石子考虑完全之后，就还剩下类型$1$和$2$的石子。可以发现，为了保证移除石子的和不为$3$的倍数，操作顺序只有可能为下面的两种情况：\n",
    "* 如果 Alice 首先移除类型$1$的石子，那么 Bob 只能移除类型$1$的石子，之后 Alice 只能移除类型$2$的石子，Bob 同样只能移除类型$1$的石子。以此类推，移除石子的类型序列为：$$1121212121\\dots$$\n",
    "* 如果 Alice 首先移除类型$2$的石子，可以类似得到移除石子的类型序列为：$$2212121212\\dots$$\n",
    "\n",
    "作为先手的 Alice 可以在二者中选择一个序列。如果 Alice 选择第一种，那么 Bob 永远移除类型$1$的石子，Alice除了第一步移除类型$1$的石子之外，后序永远移除类型$2$的石子。因此 Alice 获胜当且仅当：\n",
    "* 类型$1$的石子恰好有$1$个，并且类型$2$的石子至少有$1$个。此时 Alice 在 Bob 完成第一步时获胜。\n",
    "* 类型$1$的石子至少有$2$个，并且不能比类型$2$的石子多：\n",
    "    - 如果多$1$个，那么在 Alice 移除最后一个类型$2$的石子后，所有的石子都被移除，Bob 获胜。\n",
    "    - 如果多$2$个，那么在 Bob 移除最后一个类型$1$的石子后，所有的石子都被移除，Bob 获胜。\n",
    "    - 如果多超过$2$个，那么 Alice 会在某一步没有类型$2$的石子可以移除，Bob获胜。\n",
    "    - 如果一样多或类型$2$的石子更多，那么 Bob 会在某一步没有类型$1$的石子可以移除，Alice获胜。\n",
    "\n",
    "上面的条件可以归纳为：有类型$1$的石子，并且不能比类型$2$的石子多。\n",
    "同理，如果 Alice 选择第二种，那么她获胜当且仅当有类型$2$的石子，并且不能比类型$1$的石子多。\n",
    "上述的情况可以归纳为：类型$1$和类型$2$的石子至少都有一个。\n",
    "## 细节\n",
    "得到 Alice 获胜的条件：\n",
    "* 如果类型$0$的石子个数为**偶数**，那么 Alice 获胜当且仅当类型$1$和类型$2$的石子至少都有一个。\n",
    "* 如果类型$0$的石子个数为**奇数**，那么 Alice 获胜当且仅当$\\lceil 在没有类型0石子的情况下 ，Bob 获胜且原因不是所有的石子都被移除 \\rfloor$。对应到上面的分析即为$\\lceil 类型1的石子比类型2多超过2个 \\rfloor$或$\\lceil 类型2的石子比类型1多超过2个 \\rfloor$。"
   ],
   "metadata": {
    "collapsed": false,
    "pycharm": {
     "name": "#%% md\n"
    }
   }
  },
  {
   "cell_type": "code",
   "execution_count": null,
   "outputs": [],
   "source": [
    "import collections\n",
    "from typing import List\n",
    "def stoneGameIX(stones: List[int]) -> bool:\n",
    "    dictionary = collections.defaultdict(int)\n",
    "    for stone in stones:\n",
    "        dictionary[stone % 3] += 1\n",
    "    if dictionary[0] % 2 == 0:\n",
    "        return dictionary[1] > 0 and dictionary[2] > 0\n",
    "    return abs(dictionary[1] - dictionary[2]) > 2\n"
   ],
   "metadata": {
    "collapsed": false,
    "pycharm": {
     "name": "#%%\n"
    }
   }
  }
 ],
 "metadata": {
  "kernelspec": {
   "display_name": "Python 3",
   "language": "python",
   "name": "python3"
  },
  "language_info": {
   "codemirror_mode": {
    "name": "ipython",
    "version": 2
   },
   "file_extension": ".py",
   "mimetype": "text/x-python",
   "name": "python",
   "nbconvert_exporter": "python",
   "pygments_lexer": "ipython2",
   "version": "2.7.6"
  }
 },
 "nbformat": 4,
 "nbformat_minor": 0
}