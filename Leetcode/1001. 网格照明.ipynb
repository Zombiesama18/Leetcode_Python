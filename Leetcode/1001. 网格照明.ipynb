{
 "cells": [
  {
   "cell_type": "markdown",
   "metadata": {
    "collapsed": true,
    "pycharm": {
     "name": "#%% md\n"
    }
   },
   "source": [
    "1001. 网格照明\n",
    "在大小为 n x n 的网格 grid 上，每个单元格都有一盏灯，最初灯都处于 关闭 状态。\n",
    "给你一个由灯的位置组成的二维数组 lamps ，其中 lamps[i] = [rowi, coli] 表示 打开 位于 grid[rowi][coli] 的灯。\n",
    "即便同一盏灯可能在 lamps 中多次列出，不会影响这盏灯处于 打开 状态。\n",
    "当一盏灯处于打开状态，它将会照亮 自身所在单元格 以及同一 行 、同一 列 和两条 对角线 上的 所有其他单元格 。\n",
    "另给你一个二维数组 queries ，其中 queries[j] = [rowj, colj] 。对于第 j 个查询，如果单元格 [rowj, colj] 是被照亮的，\n",
    "则查询结果为 1 ，否则为 0 。在第 j 次查询之后 [按照查询的顺序] ，关闭 位于单元格 grid[rowj][colj]\n",
    "上及相邻 8 个方向上（与单元格 grid[rowi][coli] 共享角或边）的任何灯。\n",
    "返回一个整数数组 ans 作为答案， ans[j] 应等于第 j 次查询 queries[j] 的结果，1 表示照亮，0 表示未照亮。\n",
    "\n",
    "## 做法\n",
    "将网格转换成一个坐标系，行下标作为 x 坐标，列下标作为 y 坐标。使用直线与坐标轴上交点的数值来唯一标识行、列和正/反对角线。规则为：假设一盏灯的坐标为 $(x_i, y_i)$，那么它所在行的数值为 $x_i$，列的数值为 $y_i$，正对角线的数值为 $x_i - y_i$，负对角线的数值为 $x_i + y_i$。确定某一直线的唯一数值标识后，就可以使用哈希表来记录某一直线所拥有的灯的数目。\n",
    "遍历 lamps，将当前遍历的灯所在的行，列和正/反对角线拥有灯的数目分别加一。处理时需要去重，将重复的灯看做一盏灯。\n",
    "遍历 queries，判断当前查询点所在的行，列和正/反对角线是否有灯，如果有，则置1，即该点在被查询时是被照亮的。然后进行关闭操作，查找查询点所在的八个近邻点及其本身是否有灯，如果有，将该点的所在行、列和正/反对角线的灯的数目分别减一，并且将灯从网格中去掉。"
   ]
  },
  {
   "cell_type": "code",
   "execution_count": null,
   "outputs": [],
   "source": [
    "from typing import *\n",
    "\n",
    "def gridIllumination(n: int, lamps: List[List[int]], queries: List[List[int]]) -> List[int]:\n",
    "    points = set()\n",
    "    row, col, diagonal, antiDiagonal = Counter(), Counter(), Counter(), Counter()\n",
    "    for r, c in lamps:\n",
    "        if (r, c) in points:\n",
    "            continue\n",
    "        points.add((r, c))\n",
    "        row[r] += 1\n",
    "        col[c] += 1\n",
    "        diagonal[r - c] += 1\n",
    "        antiDiagonal[r + c] += 1\n",
    "    result = [0] * len(queries)\n",
    "    for i, (r, c) in enumerate(queries):\n",
    "        if row[r] or col[c] or diagonal[r - c] or antiDiagonal[r + c]:\n",
    "            result[i] = 1\n",
    "        for x in range(r - 1, r + 2):\n",
    "            for y in range(c - 1, c + 2):\n",
    "                if x < 0 or y < 0 or x >= n or y >= n or (x, y) not in points:\n",
    "                    continue\n",
    "                points.remove((x, y))\n",
    "                row[x] -= 1\n",
    "                col[y] -= 1\n",
    "                diagonal[x - y] -= 1\n",
    "                antiDiagonal[x + y] -= 1\n",
    "    return result\n"
   ],
   "metadata": {
    "collapsed": false,
    "pycharm": {
     "name": "#%%\n"
    }
   }
  }
 ],
 "metadata": {
  "kernelspec": {
   "display_name": "Python 3",
   "language": "python",
   "name": "python3"
  },
  "language_info": {
   "codemirror_mode": {
    "name": "ipython",
    "version": 2
   },
   "file_extension": ".py",
   "mimetype": "text/x-python",
   "name": "python",
   "nbconvert_exporter": "python",
   "pygments_lexer": "ipython2",
   "version": "2.7.6"
  }
 },
 "nbformat": 4,
 "nbformat_minor": 0
}