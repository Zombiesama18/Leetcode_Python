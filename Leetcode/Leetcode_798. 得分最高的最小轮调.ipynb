{
 "cells": [
  {
   "cell_type": "markdown",
   "metadata": {
    "collapsed": true,
    "pycharm": {
     "name": "#%% md\n"
    }
   },
   "source": [
    "798. 得分最高的最小轮调\n",
    "\n",
    "给你一个数组 nums，我们可以将它按一个非负整数 k 进行轮调，\n",
    "这样可以使数组变为 [nums[k], nums[k + 1], ... nums[nums.length - 1], nums[0], nums[1], ..., nums[k-1]] 的形式。\n",
    "此后，任何值小于或等于其索引的项都可以记作一分。\n",
    "例如，数组为 nums = [2,4,1,3,0]，我们按 k = 2 进行轮调后，它将变成 [1,3,0,2,4]。这将记为 3 分，因为 1 > 0 [不计分]、\n",
    "3 > 1 [不计分]、0 <= 2 [计 1 分]、2 <= 3 [计 1 分]，4 <= 4 [计 1 分]。\n",
    "在所有可能的轮调中，返回我们所能得到的最高分数对应的轮调下标 k 。如果有多个答案，返回满足条件的最小的下标 k 。"
   ]
  },
  {
   "cell_type": "markdown",
   "source": [
    "最简单的做法是遍历每个可能的 k，计算轮调 k 个位置之后的数组得分。假设数组的长度是 n，则有 n 种可能的轮调，对于每种轮调都需要 $O(n)$ 的时间计算得分，总时间复杂度是 $O(n^2)$ ，对于 $n \\leq 10^5$ 的数据范围会超出时间限制，因此需要优化。\n",
    "对于数组 nums 中的元素 x，当 x 所在下标大于或等于 x 时，元素 x 会记 1 分。因此元素 x 记 1 分的下标范围是 [x,n-1]，有 $n - x$ 个下标，元素 x 不计分的下标范围是 [0,x−1]，有 x 个下标。\n",
    "假设元素 x 的初始下标为 i，则当轮调下标为 k 时，元素 x 位于下标 $(i - k + n) \\bmod n$。如果元素 x 记 1 分，则有 $(i - k + n) \\bmod n \\geq x$ ，等价于 $k \\leq (i - x + n) \\bmod n$ 。由于元素 x 记 1 分的下标有 $n−x$ 个，因此有 $k \\geq (i + 1) \\bmod n$。\n",
    "将取模运算去掉之后，可以得到 k 的实际取值范围：\n",
    "* 当 $i<x$ 时，$i + 1 \\leq k \\leq i - x + n$；\n",
    "* 当 $i \\geq x$ 时，$k \\geq i + 1$ 或 $k \\leq i - x$ 。\n",
    "\n",
    "对于数组 $\\textit{nums}$ 中的每个元素，都可以根据元素值与元素所在下标计算该元素记 1 分的轮调下标范围。遍历所有元素之后，即可得到每个轮调下标对应的计 1 分的元素个数，计 1 分的元素个数最多的轮调下标即为得分最高的轮调下标。如果存在多个得分最高的轮调下标，则取其中最小的轮调下标。\n",
    "创建长度为 n 的数组 $\\textit{points}$，其中 $\\textit{points}[k]$ 表示轮调下标为 k 时的得分。对于数组 $\\textit{nums}$ 中的每个元素，得到该元素记 1 分的轮调下标范围，然后将数组 $\\textit{points}$ 的该下标范围内的所有元素加 1。当数组 $\\textit{points}$ 中的元素值确定后，找到最大元素的最小下标。该做法的时间复杂度仍然是 $O(n^2)$，为了降低时间复杂度，需要利用差分数组。\n",
    "\n",
    "假设元素 x 的初始下标为 i。当 $i < x$ 时应将 $\\textit{points}$ 的下标范围 [i+1,i−x+n] 内的所有元素加 1，当 $i \\geq x$ 时应将 $\\textit{points}$ 的下标范围 [0,i+1] 和 [i−x,n−1] 内的所有元素加 1。由于是将一段或两段连续下标范围内的元素加 1，因此可以使用差分数组实现。定义长度为 n 的差分数组 $\\textit{diffs}$，其中 $\\textit{diffs}[k] = \\textit{points}[k] - \\textit{points}[k - 1]$（特别地，$\\textit{points}[-1] = 0$），具体做法是：令 $\\textit{low} = (i + 1) \\bmod n$，$\\textit{high} = (i - x + n + 1) \\bmod n$ ，将 $\\textit{diffs}[\\textit{low}]$ 的值加 1，将 $\\textit{diffs}[\\textit{high}]$ 的值减 1，如果 $\\textit{low} \\geq \\textit{high}$ 则将 $\\textit{diffs}[0]$ 的值加 1。\n",
    "\n",
    "遍历数组 $\\textit{nums}$ 的所有元素并更新差分数组之后，遍历数组 $\\textit{diffs}$ 并计算前缀和，则每个下标处的前缀和表示当前轮调下标处的得分。在遍历过程中维护最大得分和最大得分的最小轮调下标，遍历结束之后即可得到结果。\n",
    "\n",
    "实现方面，不需要显性创建数组 $\\textit{points}$，只需要创建差分数组 $\\textit{diffs}$，遍历数组 $\\textit{diffs}$ 时即可根据前缀和得到数组 $\\textit{points}$ 中的每个元素值。\n",
    "\n",
    "证明\n",
    "差分数组做法的正确性证明需要考虑 $\\textit{low}$ 和 $\\textit{high}$ 的不同情况。\n",
    "1. 如果 $\\textit{low} \\leq \\textit{high} - 1 < n - 1$，则有 $\\textit{low} < \\textit{high} < n$，更新 $\\textit{diffs}$ 等价于将数组 $\\textit{points}$ 的下标范围 [low,high−1] 内的所有元素加 1。\n",
    "2. 如果 $\\textit{low} \\leq \\textit{high} + n - 1 = n - 1$，则有 $0 = \\textit{high} \\leq \\textit{low}$，更新 $\\textit{diffs}$ 等价于将数组 $\\textit{points}$ 的下标范围 [low,n−1] 内的所有元素加 1，$\\textit{diffs}[0]$ 先减 1 后加 1 因此 $\\textit{diffs}[0]$ 没有变化，同第 1 种情况。\n",
    "3. 如果 $\\textit{low} \\geq \\textit{high} \\neq 0$，则需要将 $\\textit{diffs}[0]$ 加 1，更新 $\\textit{diffs}$ 等价于将数组 $\\textit{points}$ 的下标范围 [low,n−1] 和 [0,high−1] 内的所有元素加 1。\n",
    "\n",
    "上述三种情况对应的更新数组 $\\textit{points}$ 的效果都符合预期，因此差分数组的做法可以得到正确的结果。\n"
   ],
   "metadata": {
    "collapsed": false
   }
  },
  {
   "cell_type": "code",
   "execution_count": null,
   "outputs": [],
   "source": [
    "from typing import List\n",
    "\n",
    "\n",
    "def bestRotation(nums: List[int]) -> int:\n",
    "    diffs = [0] * len(nums)\n",
    "    for i, num in enumerate(nums):\n",
    "        low = (i + 1) % len(nums)\n",
    "        high = (i - num + len(nums) + 1) % len(nums)\n",
    "        diffs[low] += 1\n",
    "        diffs[high] -= 1\n",
    "        if low >= high:\n",
    "            diffs[0] += 1\n",
    "    score, result, idx = 0, 0, 0\n",
    "    for i, diff in enumerate(diffs):\n",
    "        score += diff\n",
    "        if score > result:\n",
    "            result = score\n",
    "            idx = i\n",
    "    return idx"
   ],
   "metadata": {
    "collapsed": false,
    "pycharm": {
     "name": "#%%\n"
    }
   }
  }
 ],
 "metadata": {
  "kernelspec": {
   "display_name": "Python 3",
   "language": "python",
   "name": "python3"
  },
  "language_info": {
   "codemirror_mode": {
    "name": "ipython",
    "version": 2
   },
   "file_extension": ".py",
   "mimetype": "text/x-python",
   "name": "python",
   "nbconvert_exporter": "python",
   "pygments_lexer": "ipython2",
   "version": "2.7.6"
  }
 },
 "nbformat": 4,
 "nbformat_minor": 0
}