{
 "cells": [
  {
   "cell_type": "markdown",
   "source": [
    "一只猫和一只老鼠在玩一个叫做猫和老鼠的游戏。\n",
    "它们所处的环境设定是一个 rows x cols 的方格 grid ，其中每个格子可能是一堵墙、一块地板、一位玩家（猫或者老鼠）或者食物。\n",
    "* 玩家由字符 'C' （代表猫）和 'M' （代表老鼠）表示。\n",
    "* 地板由字符 '.' 表示，玩家可以通过这个格子。\n",
    "* 墙用字符 '#' 表示，玩家不能通过这个格子。\n",
    "* 食物用字符 'F' 表示，玩家可以通过这个格子。\n",
    "* 字符 'C' ， 'M' 和 'F' 在 grid 中都只会出现一次。\n",
    "\n",
    "猫和老鼠按照如下规则移动：\n",
    "* 老鼠 先移动 ，然后两名玩家轮流移动。\n",
    "* 每一次操作时，猫和老鼠可以跳到上下左右四个方向之一的格子，他们不能跳过墙也不能跳出 grid 。\n",
    "* catJump 和 mouseJump 是猫和老鼠分别跳一次能到达的最远距离，它们也可以跳小于最大距离的长度。\n",
    "* 它们可以停留在原地。\n",
    "* 老鼠可以跳跃过猫的位置。\n",
    "\n",
    "游戏有 4 种方式会结束：\n",
    "* 如果猫跟老鼠处在相同的位置，那么猫获胜。\n",
    "* 如果猫先到达食物，那么猫获胜。\n",
    "* 如果老鼠先到达食物，那么老鼠获胜。\n",
    "* 如果老鼠不能在 1000 次操作以内到达食物，那么猫获胜。\n",
    "\n",
    "给你 rows x cols 的矩阵 grid 和两个整数 catJump 和 mouseJump ，双方都采取最优策略，如果老鼠获胜，那么请你返回 true ，否则返回 false 。"
   ],
   "metadata": {
    "collapsed": false,
    "pycharm": {
     "name": "#%% md\n"
    }
   }
  },
  {
   "cell_type": "code",
   "execution_count": null,
   "outputs": [],
   "source": [],
   "metadata": {
    "collapsed": false,
    "pycharm": {
     "name": "#%%\n"
    }
   }
  }
 ],
 "metadata": {
  "kernelspec": {
   "display_name": "Python 3",
   "language": "python",
   "name": "python3"
  },
  "language_info": {
   "codemirror_mode": {
    "name": "ipython",
    "version": 2
   },
   "file_extension": ".py",
   "mimetype": "text/x-python",
   "name": "python",
   "nbconvert_exporter": "python",
   "pygments_lexer": "ipython2",
   "version": "2.7.6"
  }
 },
 "nbformat": 4,
 "nbformat_minor": 0
}