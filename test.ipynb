{
 "cells": [
  {
   "cell_type": "code",
   "execution_count": 1,
   "metadata": {
    "collapsed": true
   },
   "outputs": [
    {
     "name": "stdout",
     "output_type": "stream",
     "text": [
      "123\n"
     ]
    }
   ],
   "source": [
    "print(123)"
   ]
  },
  {
   "cell_type": "code",
   "source": [
    "def func1(N, colors):\n",
    "    colors = colors.split('\\n')\n",
    "    colors = [colors[i] for i in range(len(colors)) if i % 2 == 1]\n",
    "    for i in range(N):\n",
    "        posit_dict = dict()\n",
    "        for j, char in enumerate(colors[i]):\n",
    "            if char not in posit_dict:\n",
    "                posit_dict[char] = j + 1\n",
    "            else:\n",
    "                posit_dict[char] = -1\n",
    "        counter = 0\n",
    "        positions = []\n",
    "        for k, v in posit_dict.items():\n",
    "            if v != -1:\n",
    "                counter += 1\n",
    "                positions.append(v)\n",
    "        print(counter)\n",
    "        print(' '.join(positions))"
   ],
   "metadata": {
    "collapsed": false
   },
   "execution_count": null,
   "outputs": []
  },
  {
   "cell_type": "code",
   "execution_count": null,
   "outputs": [],
   "source": [
    "colors = '7' \\\n",
    "         'AABCDCE' \\\n",
    "         '12' \\\n",
    "         'AABBCCDEFDFE' \\\n",
    "         '8' \\\n",
    "         'HEYSHYSH'\n",
    "N = 3\n",
    "func1(N, colors)"
   ],
   "metadata": {
    "collapsed": false
   }
  },
  {
   "cell_type": "code",
   "execution_count": 11,
   "outputs": [],
   "source": [
    "from pathlib import Path\n",
    "import glob\n",
    "import os\n",
    "import shutil\n",
    "\n",
    "path = 'C:\\\\Users\\\\43571\\\\Music\\\\F.房东的m\\\\songs'\n",
    "target_path = os.path.join(path, '..')\n",
    "\n",
    "file_list = glob.glob(os.path.join(path, '**', '*.flac'), recursive=True)\n",
    "file_list.extend(glob.glob(os.path.join(path, '**', '*.mp3'), recursive=True))\n"
   ],
   "metadata": {
    "collapsed": false,
    "ExecuteTime": {
     "start_time": "2023-04-30T23:09:42.295680Z",
     "end_time": "2023-04-30T23:09:42.330349Z"
    }
   }
  },
  {
   "cell_type": "code",
   "execution_count": 12,
   "outputs": [
    {
     "name": "stdout",
     "output_type": "stream",
     "text": [
      "138\n"
     ]
    }
   ],
   "source": [
    "print(len(file_list))"
   ],
   "metadata": {
    "collapsed": false,
    "ExecuteTime": {
     "start_time": "2023-04-30T23:09:42.557757Z",
     "end_time": "2023-04-30T23:09:42.577261Z"
    }
   }
  },
  {
   "cell_type": "code",
   "execution_count": 13,
   "outputs": [],
   "source": [
    "for file in file_list:\n",
    "    shutil.copy(file, os.path.join(target_path, 'total', os.path.basename(file)))"
   ],
   "metadata": {
    "collapsed": false,
    "ExecuteTime": {
     "start_time": "2023-04-30T23:09:54.187879Z",
     "end_time": "2023-04-30T23:10:37.877244Z"
    }
   }
  },
  {
   "cell_type": "code",
   "execution_count": null,
   "outputs": [],
   "source": [],
   "metadata": {
    "collapsed": false
   }
  }
 ],
 "metadata": {
  "kernelspec": {
   "display_name": "Python 3",
   "language": "python",
   "name": "python3"
  },
  "language_info": {
   "codemirror_mode": {
    "name": "ipython",
    "version": 2
   },
   "file_extension": ".py",
   "mimetype": "text/x-python",
   "name": "python",
   "nbconvert_exporter": "python",
   "pygments_lexer": "ipython2",
   "version": "2.7.6"
  }
 },
 "nbformat": 4,
 "nbformat_minor": 0
}
